{
 "cells": [
  {
   "cell_type": "markdown",
   "id": "df2cafc2",
   "metadata": {},
   "source": [
    "ciao"
   ]
  }
 ],
 "metadata": {
  "kernelspec": {
   "display_name": ".venv",
   "language": "python",
   "name": "python3"
  },
  "language_info": {
   "name": "python",
   "version": "3.12.8"
  }
 },
 "nbformat": 4,
 "nbformat_minor": 5
}
